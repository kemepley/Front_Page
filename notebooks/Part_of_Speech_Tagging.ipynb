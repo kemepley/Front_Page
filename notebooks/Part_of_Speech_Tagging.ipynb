{
 "cells": [
  {
   "cell_type": "code",
   "execution_count": 1,
   "metadata": {},
   "outputs": [
    {
     "name": "stderr",
     "output_type": "stream",
     "text": [
      "Using TensorFlow backend.\n"
     ]
    }
   ],
   "source": [
    "import pandas as pd\n",
    "\n",
    "from sklearn.feature_extraction.text import TfidfVectorizer\n",
    "from sklearn.feature_extraction.text import CountVectorizer\n",
    "from sklearn.model_selection import train_test_split\n",
    "from sklearn.ensemble import RandomForestClassifier\n",
    "from sklearn.naive_bayes import MultinomialNB\n",
    "from sklearn.neighbors import KNeighborsClassifier\n",
    "from sklearn.linear_model import LogisticRegression\n",
    "from sklearn.metrics import accuracy_score, balanced_accuracy_score, precision_score, recall_score, f1_score, confusion_matrix\n",
    "\n",
    "import keras\n",
    "from keras.layers import Dense, Dropout\n",
    "from keras.models import Sequential\n",
    "from keras.optimizers import Adam\n",
    "from keras import regularizers\n",
    "from keras.layers.normalization import BatchNormalization\n",
    "\n",
    "from imblearn.over_sampling import SMOTE\n",
    "from imblearn.under_sampling import RandomUnderSampler\n",
    "\n",
    "from wordcloud import WordCloud\n",
    "import seaborn as sns\n",
    "import matplotlib.pyplot as plt\n",
    "plt.style.use('ggplot')\n",
    "%matplotlib inline\n",
    "\n",
    "from get_labeled_dfs import *\n",
    "from process_text import *\n",
    "\n",
    "import spacy\n",
    "from spacy.pipeline import Tagger"
   ]
  },
  {
   "cell_type": "code",
   "execution_count": 2,
   "metadata": {},
   "outputs": [],
   "source": [
    "# use custom function to get the corpus df, label dfs, and validation dfs\n",
    "corpus_df, val_corpus_df, emotion_df, val_emotion_df, valence_df, val_valence_df = get_labeled_dfs()\n"
   ]
  },
  {
   "cell_type": "code",
   "execution_count": 3,
   "metadata": {},
   "outputs": [],
   "source": [
    "# using custom class method to process data\n",
    "processor = Process_Text_Data()\n",
    "processor.transform(corpus_df)\n"
   ]
  },
  {
   "cell_type": "code",
   "execution_count": 4,
   "metadata": {},
   "outputs": [
    {
     "data": {
      "text/html": [
       "<div>\n",
       "<style scoped>\n",
       "    .dataframe tbody tr th:only-of-type {\n",
       "        vertical-align: middle;\n",
       "    }\n",
       "\n",
       "    .dataframe tbody tr th {\n",
       "        vertical-align: top;\n",
       "    }\n",
       "\n",
       "    .dataframe thead th {\n",
       "        text-align: right;\n",
       "    }\n",
       "</style>\n",
       "<table border=\"1\" class=\"dataframe\">\n",
       "  <thead>\n",
       "    <tr style=\"text-align: right;\">\n",
       "      <th></th>\n",
       "      <th>text</th>\n",
       "    </tr>\n",
       "  </thead>\n",
       "  <tbody>\n",
       "    <tr>\n",
       "      <th>0</th>\n",
       "      <td>test predict breast cancer relapse approve</td>\n",
       "    </tr>\n",
       "    <tr>\n",
       "      <th>1</th>\n",
       "      <td>two hussein ally hang iraqi official say</td>\n",
       "    </tr>\n",
       "    <tr>\n",
       "      <th>2</th>\n",
       "      <td>sight sound ces</td>\n",
       "    </tr>\n",
       "    <tr>\n",
       "      <th>3</th>\n",
       "      <td>schuey see ferrari unveil new car</td>\n",
       "    </tr>\n",
       "    <tr>\n",
       "      <th>4</th>\n",
       "      <td>closing cancellation top advice flu outbreak</td>\n",
       "    </tr>\n",
       "  </tbody>\n",
       "</table>\n",
       "</div>"
      ],
      "text/plain": [
       "                                           text\n",
       "0    test predict breast cancer relapse approve\n",
       "1      two hussein ally hang iraqi official say\n",
       "2                               sight sound ces\n",
       "3             schuey see ferrari unveil new car\n",
       "4  closing cancellation top advice flu outbreak"
      ]
     },
     "execution_count": 4,
     "metadata": {},
     "output_type": "execute_result"
    }
   ],
   "source": [
    "corpus_df.head()\n"
   ]
  },
  {
   "cell_type": "code",
   "execution_count": 5,
   "metadata": {},
   "outputs": [
    {
     "data": {
      "text/html": [
       "<div>\n",
       "<style scoped>\n",
       "    .dataframe tbody tr th:only-of-type {\n",
       "        vertical-align: middle;\n",
       "    }\n",
       "\n",
       "    .dataframe tbody tr th {\n",
       "        vertical-align: top;\n",
       "    }\n",
       "\n",
       "    .dataframe thead th {\n",
       "        text-align: right;\n",
       "    }\n",
       "</style>\n",
       "<table border=\"1\" class=\"dataframe\">\n",
       "  <thead>\n",
       "    <tr style=\"text-align: right;\">\n",
       "      <th></th>\n",
       "      <th>valence</th>\n",
       "      <th>label</th>\n",
       "    </tr>\n",
       "  </thead>\n",
       "  <tbody>\n",
       "    <tr>\n",
       "      <th>0</th>\n",
       "      <td>32</td>\n",
       "      <td>1</td>\n",
       "    </tr>\n",
       "    <tr>\n",
       "      <th>1</th>\n",
       "      <td>-48</td>\n",
       "      <td>0</td>\n",
       "    </tr>\n",
       "    <tr>\n",
       "      <th>2</th>\n",
       "      <td>26</td>\n",
       "      <td>1</td>\n",
       "    </tr>\n",
       "    <tr>\n",
       "      <th>3</th>\n",
       "      <td>40</td>\n",
       "      <td>1</td>\n",
       "    </tr>\n",
       "    <tr>\n",
       "      <th>4</th>\n",
       "      <td>-6</td>\n",
       "      <td>2</td>\n",
       "    </tr>\n",
       "  </tbody>\n",
       "</table>\n",
       "</div>"
      ],
      "text/plain": [
       "   valence  label\n",
       "0       32      1\n",
       "1      -48      0\n",
       "2       26      1\n",
       "3       40      1\n",
       "4       -6      2"
      ]
     },
     "execution_count": 5,
     "metadata": {},
     "output_type": "execute_result"
    }
   ],
   "source": [
    "valence_df.head()"
   ]
  },
  {
   "cell_type": "code",
   "execution_count": 6,
   "metadata": {},
   "outputs": [
    {
     "data": {
      "text/html": [
       "<div>\n",
       "<style scoped>\n",
       "    .dataframe tbody tr th:only-of-type {\n",
       "        vertical-align: middle;\n",
       "    }\n",
       "\n",
       "    .dataframe tbody tr th {\n",
       "        vertical-align: top;\n",
       "    }\n",
       "\n",
       "    .dataframe thead th {\n",
       "        text-align: right;\n",
       "    }\n",
       "</style>\n",
       "<table border=\"1\" class=\"dataframe\">\n",
       "  <thead>\n",
       "    <tr style=\"text-align: right;\">\n",
       "      <th></th>\n",
       "      <th>anger</th>\n",
       "      <th>disgust</th>\n",
       "      <th>fear</th>\n",
       "      <th>joy</th>\n",
       "      <th>sadness</th>\n",
       "      <th>surprise</th>\n",
       "      <th>max</th>\n",
       "      <th>label</th>\n",
       "    </tr>\n",
       "  </thead>\n",
       "  <tbody>\n",
       "    <tr>\n",
       "      <th>0</th>\n",
       "      <td>0</td>\n",
       "      <td>0</td>\n",
       "      <td>15</td>\n",
       "      <td>38</td>\n",
       "      <td>9</td>\n",
       "      <td>11</td>\n",
       "      <td>joy</td>\n",
       "      <td>3</td>\n",
       "    </tr>\n",
       "    <tr>\n",
       "      <th>1</th>\n",
       "      <td>24</td>\n",
       "      <td>26</td>\n",
       "      <td>16</td>\n",
       "      <td>13</td>\n",
       "      <td>38</td>\n",
       "      <td>5</td>\n",
       "      <td>sadness</td>\n",
       "      <td>4</td>\n",
       "    </tr>\n",
       "    <tr>\n",
       "      <th>2</th>\n",
       "      <td>0</td>\n",
       "      <td>0</td>\n",
       "      <td>0</td>\n",
       "      <td>17</td>\n",
       "      <td>0</td>\n",
       "      <td>4</td>\n",
       "      <td>joy</td>\n",
       "      <td>3</td>\n",
       "    </tr>\n",
       "    <tr>\n",
       "      <th>3</th>\n",
       "      <td>0</td>\n",
       "      <td>0</td>\n",
       "      <td>0</td>\n",
       "      <td>46</td>\n",
       "      <td>0</td>\n",
       "      <td>31</td>\n",
       "      <td>joy</td>\n",
       "      <td>3</td>\n",
       "    </tr>\n",
       "    <tr>\n",
       "      <th>4</th>\n",
       "      <td>1</td>\n",
       "      <td>0</td>\n",
       "      <td>23</td>\n",
       "      <td>8</td>\n",
       "      <td>11</td>\n",
       "      <td>8</td>\n",
       "      <td>fear</td>\n",
       "      <td>2</td>\n",
       "    </tr>\n",
       "  </tbody>\n",
       "</table>\n",
       "</div>"
      ],
      "text/plain": [
       "   anger  disgust  fear  joy  sadness  surprise      max  label\n",
       "0      0        0    15   38        9        11      joy      3\n",
       "1     24       26    16   13       38         5  sadness      4\n",
       "2      0        0     0   17        0         4      joy      3\n",
       "3      0        0     0   46        0        31      joy      3\n",
       "4      1        0    23    8       11         8     fear      2"
      ]
     },
     "execution_count": 6,
     "metadata": {},
     "output_type": "execute_result"
    }
   ],
   "source": [
    "emotion_df.head()"
   ]
  },
  {
   "cell_type": "code",
   "execution_count": 7,
   "metadata": {},
   "outputs": [],
   "source": [
    "# note that there there are no rows with rating 0 for all emotion categories, \n",
    "# but there are 5 rows with very small values across the board (<10)\n",
    "emotion_df.loc[(emotion_df.anger==0)&(emotion_df.disgust==0)&(emotion_df.fear==0)&(emotion_df.joy==0)&(emotion_df.sadness==0)& (emotion_df.surprise==0)]\n",
    "\n",
    "# drop these\n",
    "emotion_df = emotion_df.loc[(emotion_df.anger + emotion_df.disgust + emotion_df.fear + emotion_df.joy + emotion_df.sadness + emotion_df.surprise)>10]\n",
    "corpus_df_emotion = corpus_df.iloc[emotion_df.index]"
   ]
  },
  {
   "cell_type": "markdown",
   "metadata": {},
   "source": [
    "# SpaCy Part of Speech Tagging"
   ]
  },
  {
   "cell_type": "code",
   "execution_count": 8,
   "metadata": {},
   "outputs": [
    {
     "name": "stderr",
     "output_type": "stream",
     "text": [
      "/anaconda3/lib/python3.7/site-packages/ipykernel_launcher.py:21: SettingWithCopyWarning: \n",
      "A value is trying to be set on a copy of a slice from a DataFrame.\n",
      "Try using .loc[row_indexer,col_indexer] = value instead\n",
      "\n",
      "See the caveats in the documentation: http://pandas.pydata.org/pandas-docs/stable/indexing.html#indexing-view-versus-copy\n"
     ]
    }
   ],
   "source": [
    "nlp = spacy.load('en_core_web_sm')\n",
    "\n",
    "word_tag_tuples = []\n",
    "for text in corpus_df.text:\n",
    "    sentence_tagged = []\n",
    "    for token in nlp(text):\n",
    "        pair = token.text + token.tag_\n",
    "        sentence_tagged.append(pair)\n",
    "    word_tag_tuples.append(\" \".join(sentence_tagged))\n",
    "\n",
    "corpus_df['word_tag_tuples'] = word_tag_tuples\n",
    "\n",
    "word_tag_tuples_emotion = []\n",
    "for text in corpus_df_emotion.text:\n",
    "    sentence_tagged = []\n",
    "    for token in nlp(text):\n",
    "        tup = token.text + token.tag_\n",
    "        sentence_tagged.append(pair)\n",
    "    word_tag_tuples_emotion.append(\" \".join(sentence_tagged))\n",
    "\n",
    "corpus_df_emotion['word_tag_tuples'] = word_tag_tuples_emotion\n"
   ]
  },
  {
   "cell_type": "code",
   "execution_count": 9,
   "metadata": {},
   "outputs": [
    {
     "data": {
      "text/html": [
       "<div>\n",
       "<style scoped>\n",
       "    .dataframe tbody tr th:only-of-type {\n",
       "        vertical-align: middle;\n",
       "    }\n",
       "\n",
       "    .dataframe tbody tr th {\n",
       "        vertical-align: top;\n",
       "    }\n",
       "\n",
       "    .dataframe thead th {\n",
       "        text-align: right;\n",
       "    }\n",
       "</style>\n",
       "<table border=\"1\" class=\"dataframe\">\n",
       "  <thead>\n",
       "    <tr style=\"text-align: right;\">\n",
       "      <th></th>\n",
       "      <th>text</th>\n",
       "      <th>word_tag_tuples</th>\n",
       "    </tr>\n",
       "  </thead>\n",
       "  <tbody>\n",
       "    <tr>\n",
       "      <th>0</th>\n",
       "      <td>test predict breast cancer relapse approve</td>\n",
       "      <td>testNN predictVBP breastNN cancerNN relapseNN ...</td>\n",
       "    </tr>\n",
       "    <tr>\n",
       "      <th>1</th>\n",
       "      <td>two hussein ally hang iraqi official say</td>\n",
       "      <td>twoCD husseinJJ allyNN hangVB iraqiJJ official...</td>\n",
       "    </tr>\n",
       "    <tr>\n",
       "      <th>2</th>\n",
       "      <td>sight sound ces</td>\n",
       "      <td>sightNN soundNN cesNNS</td>\n",
       "    </tr>\n",
       "    <tr>\n",
       "      <th>3</th>\n",
       "      <td>schuey see ferrari unveil new car</td>\n",
       "      <td>schueyNNS seeVBP ferrariJJ unveilJJ newJJ carNN</td>\n",
       "    </tr>\n",
       "    <tr>\n",
       "      <th>4</th>\n",
       "      <td>closing cancellation top advice flu outbreak</td>\n",
       "      <td>closingVBG cancellationNN topJJ adviceNN fluNN...</td>\n",
       "    </tr>\n",
       "  </tbody>\n",
       "</table>\n",
       "</div>"
      ],
      "text/plain": [
       "                                           text  \\\n",
       "0    test predict breast cancer relapse approve   \n",
       "1      two hussein ally hang iraqi official say   \n",
       "2                               sight sound ces   \n",
       "3             schuey see ferrari unveil new car   \n",
       "4  closing cancellation top advice flu outbreak   \n",
       "\n",
       "                                     word_tag_tuples  \n",
       "0  testNN predictVBP breastNN cancerNN relapseNN ...  \n",
       "1  twoCD husseinJJ allyNN hangVB iraqiJJ official...  \n",
       "2                             sightNN soundNN cesNNS  \n",
       "3    schueyNNS seeVBP ferrariJJ unveilJJ newJJ carNN  \n",
       "4  closingVBG cancellationNN topJJ adviceNN fluNN...  "
      ]
     },
     "execution_count": 9,
     "metadata": {},
     "output_type": "execute_result"
    }
   ],
   "source": [
    "corpus_df.head()"
   ]
  },
  {
   "cell_type": "markdown",
   "metadata": {},
   "source": [
    "# Models\n",
    "\n",
    "## Strong Pos/Neg Valence only"
   ]
  },
  {
   "cell_type": "code",
   "execution_count": 201,
   "metadata": {},
   "outputs": [],
   "source": [
    "y = valence_df['label'].loc[(valence_df['label']==1)|(valence_df['label']==0)]\n",
    "X = corpus_df['word_tag_tuples'].iloc[y.index]\n",
    "\n",
    "X_train, X_test, y_train, y_test = train_test_split(X, y, stratify=y, random_state=1)"
   ]
  },
  {
   "cell_type": "code",
   "execution_count": 202,
   "metadata": {},
   "outputs": [
    {
     "data": {
      "text/plain": [
       "(553, 1807)"
      ]
     },
     "execution_count": 202,
     "metadata": {},
     "output_type": "execute_result"
    }
   ],
   "source": [
    "vectorizer = TfidfVectorizer()\n",
    "tf_idf_X_train = vectorizer.fit_transform(X_train)\n",
    "tf_idf_X_test = vectorizer.transform(X_test)\n",
    "tf_idf_X_train.shape"
   ]
  },
  {
   "cell_type": "code",
   "execution_count": 203,
   "metadata": {},
   "outputs": [
    {
     "data": {
      "text/plain": [
       "(602,)"
      ]
     },
     "execution_count": 203,
     "metadata": {},
     "output_type": "execute_result"
    }
   ],
   "source": [
    "smt = SMOTE(sampling_strategy='not majority')\n",
    "X_res, y_res = smt.fit_resample(tf_idf_X_train, y_train)\n",
    "y_res.shape\n"
   ]
  },
  {
   "cell_type": "code",
   "execution_count": 204,
   "metadata": {},
   "outputs": [
    {
     "name": "stderr",
     "output_type": "stream",
     "text": [
      "/anaconda3/lib/python3.7/site-packages/sklearn/ensemble/forest.py:245: FutureWarning: The default value of n_estimators will change from 10 in version 0.20 to 100 in 0.22.\n",
      "  \"10 in version 0.20 to 100 in 0.22.\", FutureWarning)\n",
      "/anaconda3/lib/python3.7/site-packages/sklearn/linear_model/logistic.py:432: FutureWarning: Default solver will be changed to 'lbfgs' in 0.22. Specify a solver to silence this warning.\n",
      "  FutureWarning)\n"
     ]
    }
   ],
   "source": [
    "nb_classifier = MultinomialNB(fit_prior=True)\n",
    "rf_classifier = RandomForestClassifier(max_depth=25, class_weight='balanced')\n",
    "knn_classifier = KNeighborsClassifier(n_neighbors=5)\n",
    "lr_classifier = LogisticRegression(C=1e10, class_weight='balanced')\n",
    "\n",
    "nb_classifier.fit(X_res, y_res)\n",
    "nb_train_preds = nb_classifier.predict(X_res)\n",
    "nb_test_preds = nb_classifier.predict(tf_idf_X_test)\n",
    "\n",
    "rf_classifier.fit(X_res, y_res)\n",
    "rf_train_preds = rf_classifier.predict(X_res)\n",
    "rf_test_preds = rf_classifier.predict(tf_idf_X_test)\n",
    "\n",
    "knn_classifier.fit(X_res, y_res)\n",
    "knn_train_preds = knn_classifier.predict(X_res)\n",
    "knn_test_preds = knn_classifier.predict(tf_idf_X_test)\n",
    "\n",
    "lr_classifier.fit(X_res, y_res)\n",
    "lr_train_preds = lr_classifier.predict(X_res)\n",
    "lr_test_preds = lr_classifier.predict(tf_idf_X_test)"
   ]
  },
  {
   "cell_type": "code",
   "execution_count": 205,
   "metadata": {},
   "outputs": [
    {
     "name": "stdout",
     "output_type": "stream",
     "text": [
      "Multinomial Naive Bayes\n",
      "Training Accuracy: 0.9916943521594684\n",
      "Training F1: 0.9916943292412038\n",
      "Testing Accuracy: 0.7675675675675676\n",
      "Testing F1: 0.7659463809691835\n",
      "\n",
      "\n",
      "Random Forest\n",
      "Training Accuracy: 0.8305647840531561\n",
      "Training F1: 0.9916943292412038\n",
      "Testing Accuracy: 0.6702702702702703\n",
      "Testing F1: 0.6492283973263883\n",
      "\n",
      "\n",
      "K Nearest Neighbors\n",
      "Training Accuracy: 0.5647840531561462\n",
      "Training F1: 0.46308551198257075\n",
      "Testing Accuracy: 0.6054054054054054\n",
      "Testing F1: 0.569791243172538\n",
      "\n",
      "\n",
      "Logistic Regression\n",
      "Training Accuracy: 1.0\n",
      "Training F1: 1.0\n",
      "Testing Accuracy: 0.7513513513513513\n",
      "Testing F1: 0.7481071981071981\n"
     ]
    },
    {
     "data": {
      "text/plain": [
       "Text(373.36363636363626, 0.5, 'Predicted')"
      ]
     },
     "execution_count": 205,
     "metadata": {},
     "output_type": "execute_result"
    },
    {
     "data": {
      "image/png": "[encoded data removed]",
      "text/plain": [
       "<Figure size 720x720 with 8 Axes>"
      ]
     },
     "metadata": {
      "needs_background": "light"
     },
     "output_type": "display_data"
    }
   ],
   "source": [
    "nb_train_acc = accuracy_score(y_res, nb_train_preds)\n",
    "nb_test_acc = accuracy_score(y_test, nb_test_preds)\n",
    "nb_train_f1 = f1_score(y_res, nb_train_preds, average='weighted')\n",
    "nb_test_f1 = f1_score(y_test, nb_test_preds, average='weighted')\n",
    "rf_train_acc = accuracy_score(y_res, rf_train_preds)\n",
    "rf_test_acc = accuracy_score(y_test, rf_test_preds)\n",
    "rf_train_f1 = f1_score(y_res, rf_train_preds, average='weighted')\n",
    "rf_test_f1 = f1_score(y_test, rf_test_preds, average='weighted')\n",
    "knn_train_acc = accuracy_score(y_res, knn_train_preds)\n",
    "knn_test_acc = accuracy_score(y_test, knn_test_preds)\n",
    "knn_train_f1 = f1_score(y_res, knn_train_preds, average='weighted')\n",
    "knn_test_f1 = f1_score(y_test, knn_test_preds, average='weighted')\n",
    "lr_train_acc = accuracy_score(y_res, lr_train_preds)\n",
    "lr_test_acc = accuracy_score(y_test, lr_test_preds)\n",
    "lr_train_f1 = f1_score(y_res, lr_train_preds, average='weighted')\n",
    "lr_test_f1 = f1_score(y_test, lr_test_preds, average='weighted')\n",
    "\n",
    "# note that the the high negative class is being treated as the target \n",
    "\n",
    "print(\"Multinomial Naive Bayes\")\n",
    "print(\"Training Accuracy:\", nb_train_acc)\n",
    "print(\"Training F1:\", nb_train_f1)\n",
    "print(\"Testing Accuracy:\", nb_test_acc)\n",
    "print(\"Testing F1:\", nb_test_f1)\n",
    "print(\"\\n\")\n",
    "plt.figure(figsize=(10,10))\n",
    "plt.subplot(2,2,1)\n",
    "cm = confusion_matrix(y_test, nb_test_preds)\n",
    "sns.heatmap(cm.T, square=True, annot=True, yticklabels=['Negative', 'Positive'], xticklabels=['Negative', 'Positive', ])\n",
    "plt.title('Naive Bayes')\n",
    "plt.xlabel('Actual')\n",
    "plt.ylabel('Predicted')\n",
    "\n",
    "print('Random Forest')\n",
    "print(\"Training Accuracy:\", rf_train_acc)\n",
    "print(\"Training F1:\", nb_train_f1)\n",
    "print(\"Testing Accuracy:\", rf_test_acc)\n",
    "print(\"Testing F1:\", rf_test_f1)\n",
    "print(\"\\n\")\n",
    "plt.subplot(2,2,2)\n",
    "cm = confusion_matrix(y_test, rf_test_preds)\n",
    "sns.heatmap(cm.T, square=True, annot=True, yticklabels=['Negative', 'Positive'], xticklabels=['Negative', 'Positive', ])\n",
    "plt.title('Random Forest')\n",
    "plt.xlabel('Actual')\n",
    "plt.ylabel('Predicted')\n",
    "\n",
    "print('K Nearest Neighbors')\n",
    "print(\"Training Accuracy:\", knn_train_acc)\n",
    "print(\"Training F1:\", knn_train_f1)\n",
    "print(\"Testing Accuracy:\", knn_test_acc)\n",
    "print(\"Testing F1:\", knn_test_f1)\n",
    "print(\"\\n\")\n",
    "plt.subplot(2,2,3)\n",
    "cm = confusion_matrix(y_test, knn_test_preds)\n",
    "sns.heatmap(cm.T, square=True, annot=True, yticklabels=['Negative', 'Positive'], xticklabels=['Negative', 'Positive'])\n",
    "plt.title('K Nearest Neighbor')\n",
    "plt.xlabel('Actual')\n",
    "plt.ylabel('Predicted')\n",
    "\n",
    "print('Logistic Regression')\n",
    "print(\"Training Accuracy:\", lr_train_acc)\n",
    "print(\"Training F1:\", lr_train_f1)\n",
    "print(\"Testing Accuracy:\", lr_test_acc)\n",
    "print(\"Testing F1:\", lr_test_f1)\n",
    "plt.subplot(2,2,4)\n",
    "cm = confusion_matrix(y_test, lr_test_preds)\n",
    "sns.heatmap(cm.T, square=True, annot=True, yticklabels=['Negative', 'Positive'], xticklabels=['Negative', 'Positive'])\n",
    "plt.title('Logistic Regession')\n",
    "plt.xlabel('Actual')\n",
    "plt.ylabel('Predicted')"
   ]
  },
  {
   "cell_type": "code",
   "execution_count": 206,
   "metadata": {},
   "outputs": [
    {
     "data": {
      "text/plain": [
       "16"
      ]
     },
     "execution_count": 206,
     "metadata": {},
     "output_type": "execute_result"
    }
   ],
   "source": [
    "df = pd.DataFrame({\"true\": y_test, \"predicted\":lr_test_preds})\n",
    "len(df.loc[(df.true==0) & (df.predicted==1)])"
   ]
  },
  {
   "cell_type": "markdown",
   "metadata": {},
   "source": [
    "## All valence labels"
   ]
  },
  {
   "cell_type": "code",
   "execution_count": 23,
   "metadata": {},
   "outputs": [],
   "source": [
    "X = corpus_df['word_tag_tuples']\n",
    "y = valence_df['label']\n",
    "\n",
    "X_train, X_test, y_train, y_test = train_test_split(X, y, stratify=y, random_state=1)\n"
   ]
  },
  {
   "cell_type": "code",
   "execution_count": 24,
   "metadata": {},
   "outputs": [
    {
     "data": {
      "text/plain": [
       "(750, 2257)"
      ]
     },
     "execution_count": 24,
     "metadata": {},
     "output_type": "execute_result"
    }
   ],
   "source": [
    "vectorizer = TfidfVectorizer()\n",
    "tf_idf_X_train = vectorizer.fit_transform(X_train)\n",
    "tf_idf_X_test = vectorizer.transform(X_test)\n",
    "tf_idf_X_train.shape\n"
   ]
  },
  {
   "cell_type": "code",
   "execution_count": 25,
   "metadata": {},
   "outputs": [],
   "source": [
    "# smt = SMOTE(sampling_strategy='not majority')\n",
    "# X_res, y_res = smt.fit_resample(tf_idf_X_train, y_train)\n",
    "# X_res.shape\n"
   ]
  },
  {
   "cell_type": "code",
   "execution_count": 28,
   "metadata": {},
   "outputs": [
    {
     "name": "stderr",
     "output_type": "stream",
     "text": [
      "/anaconda3/lib/python3.7/site-packages/sklearn/ensemble/forest.py:245: FutureWarning: The default value of n_estimators will change from 10 in version 0.20 to 100 in 0.22.\n",
      "  \"10 in version 0.20 to 100 in 0.22.\", FutureWarning)\n",
      "/anaconda3/lib/python3.7/site-packages/sklearn/linear_model/logistic.py:432: FutureWarning: Default solver will be changed to 'lbfgs' in 0.22. Specify a solver to silence this warning.\n",
      "  FutureWarning)\n",
      "/anaconda3/lib/python3.7/site-packages/sklearn/linear_model/logistic.py:469: FutureWarning: Default multi_class will be changed to 'auto' in 0.22. Specify the multi_class option to silence this warning.\n",
      "  \"this warning.\", FutureWarning)\n"
     ]
    }
   ],
   "source": [
    "nb_classifier = MultinomialNB(fit_prior=True)\n",
    "rf_classifier = RandomForestClassifier(max_depth=25, class_weight='balanced')\n",
    "knn_classifier = KNeighborsClassifier(n_neighbors=5)\n",
    "lr_classifier = LogisticRegression(C=1e10, class_weight='balanced')\n",
    "\n",
    "nb_classifier.fit(tf_idf_X_train, y_train)\n",
    "nb_train_preds = nb_classifier.predict(tf_idf_X_train)\n",
    "nb_test_preds = nb_classifier.predict(tf_idf_X_test)\n",
    "\n",
    "rf_classifier.fit(tf_idf_X_train, y_train)\n",
    "rf_train_preds = rf_classifier.predict(tf_idf_X_train)\n",
    "rf_test_preds = rf_classifier.predict(tf_idf_X_test)\n",
    "\n",
    "knn_classifier.fit(tf_idf_X_train, y_train)\n",
    "knn_train_preds = knn_classifier.predict(tf_idf_X_train)\n",
    "knn_test_preds = knn_classifier.predict(tf_idf_X_test)\n",
    "\n",
    "lr_classifier.fit(tf_idf_X_train, y_train)\n",
    "lr_train_preds = lr_classifier.predict(tf_idf_X_train)\n",
    "lr_test_preds = lr_classifier.predict(tf_idf_X_test)"
   ]
  },
  {
   "cell_type": "code",
   "execution_count": 30,
   "metadata": {},
   "outputs": [
    {
     "name": "stdout",
     "output_type": "stream",
     "text": [
      "Multinomial Naive Bayes\n",
      "Training Accuracy: 0.952\n",
      "Training F1: 0.9512064363014597\n",
      "Testing Accuracy: 0.564\n",
      "Testing F1: 0.5206296416853963\n",
      "\n",
      "\n",
      "Random Forest\n",
      "Training Accuracy: 0.6693333333333333\n",
      "Training F1: 0.9512064363014597\n",
      "Testing Accuracy: 0.464\n",
      "Testing F1: 0.4416789006200771\n",
      "\n",
      "\n",
      "K Nearest Neighbors\n",
      "Training Accuracy: 0.6813333333333333\n",
      "Training F1: 0.6654180348350011\n",
      "Testing Accuracy: 0.52\n",
      "Testing F1: 0.48127783327783324\n",
      "\n",
      "\n",
      "Logistic Regression\n",
      "Training Accuracy: 0.9986666666666667\n",
      "Training F1: 0.9986670376384609\n",
      "Testing Accuracy: 0.556\n",
      "Testing F1: 0.5494451021988123\n"
     ]
    },
    {
     "data": {
      "text/plain": [
       "Text(373.36363636363626, 0.5, 'Predicted')"
      ]
     },
     "execution_count": 30,
     "metadata": {},
     "output_type": "execute_result"
    },
    {
     "data": {
      "image/png": "[encoded data removed]",
      "text/plain": [
       "<Figure size 720x720 with 8 Axes>"
      ]
     },
     "metadata": {
      "needs_background": "light"
     },
     "output_type": "display_data"
    }
   ],
   "source": [
    "nb_train_acc = accuracy_score(y_train, nb_train_preds)\n",
    "nb_test_acc = accuracy_score(y_test, nb_test_preds)\n",
    "nb_train_f1 = f1_score(y_train, nb_train_preds, average='weighted')\n",
    "nb_test_f1 = f1_score(y_test, nb_test_preds, average='weighted')\n",
    "rf_train_acc = accuracy_score(y_train, rf_train_preds)\n",
    "rf_test_acc = accuracy_score(y_test, rf_test_preds)\n",
    "rf_train_f1 = f1_score(y_train, rf_train_preds, average='weighted')\n",
    "rf_test_f1 = f1_score(y_test, rf_test_preds, average='weighted')\n",
    "knn_train_acc = accuracy_score(y_train, knn_train_preds)\n",
    "knn_test_acc = accuracy_score(y_test, knn_test_preds)\n",
    "knn_train_f1 = f1_score(y_train, knn_train_preds, average='weighted')\n",
    "knn_test_f1 = f1_score(y_test, knn_test_preds, average='weighted')\n",
    "lr_train_acc = accuracy_score(y_train, lr_train_preds)\n",
    "lr_test_acc = accuracy_score(y_test, lr_test_preds)\n",
    "lr_train_f1 = f1_score(y_train, lr_train_preds, average='weighted')\n",
    "lr_test_f1 = f1_score(y_test, lr_test_preds, average='weighted')\n",
    "\n",
    "# note that the the high negative class is being treated as the target \n",
    "\n",
    "print(\"Multinomial Naive Bayes\")\n",
    "print(\"Training Accuracy:\", nb_train_acc)\n",
    "print(\"Training F1:\", nb_train_f1)\n",
    "print(\"Testing Accuracy:\", nb_test_acc)\n",
    "print(\"Testing F1:\", nb_test_f1)\n",
    "print(\"\\n\")\n",
    "plt.figure(figsize=(10,10))\n",
    "plt.subplot(2,2,1)\n",
    "cm = confusion_matrix(y_test, nb_test_preds)\n",
    "sns.heatmap(cm, square=True, annot=True, yticklabels=['Negative', 'Positive', 'Neutral'], xticklabels=['Negative', 'Positive', 'Neutral'])\n",
    "plt.title('Naive Bayes')\n",
    "plt.xlabel('Actual')\n",
    "plt.ylabel('Predicted')\n",
    "\n",
    "print('Random Forest')\n",
    "print(\"Training Accuracy:\", rf_train_acc)\n",
    "print(\"Training F1:\", nb_train_f1)\n",
    "print(\"Testing Accuracy:\", rf_test_acc)\n",
    "print(\"Testing F1:\", rf_test_f1)\n",
    "print(\"\\n\")\n",
    "plt.subplot(2,2,2)\n",
    "cm = confusion_matrix(y_test, rf_test_preds)\n",
    "sns.heatmap(cm, square=True, annot=True, yticklabels=['Negative', 'Positive', 'Neutral'], xticklabels=['Negative', 'Positive', 'Neutral'])\n",
    "plt.title('Random Forest')\n",
    "plt.xlabel('Actual')\n",
    "plt.ylabel('Predicted')\n",
    "\n",
    "print('K Nearest Neighbors')\n",
    "print(\"Training Accuracy:\", knn_train_acc)\n",
    "print(\"Training F1:\", knn_train_f1)\n",
    "print(\"Testing Accuracy:\", knn_test_acc)\n",
    "print(\"Testing F1:\", knn_test_f1)\n",
    "print(\"\\n\")\n",
    "plt.subplot(2,2,3)\n",
    "cm = confusion_matrix(y_test, knn_test_preds)\n",
    "sns.heatmap(cm, square=True, annot=True, yticklabels=['Negative', 'Positive', 'Neutral'], xticklabels=['Negative', 'Positive', 'Neutral'])\n",
    "plt.title('K Nearest Neighbor')\n",
    "plt.xlabel('Actual')\n",
    "plt.ylabel('Predicted')\n",
    "\n",
    "print('Logistic Regression')\n",
    "print(\"Training Accuracy:\", lr_train_acc)\n",
    "print(\"Training F1:\", lr_train_f1)\n",
    "print(\"Testing Accuracy:\", lr_test_acc)\n",
    "print(\"Testing F1:\", lr_test_f1)\n",
    "plt.subplot(2,2,4)\n",
    "cm = confusion_matrix(y_test, lr_test_preds)\n",
    "sns.heatmap(cm, square=True, annot=True, yticklabels=['Negative', 'Positive', 'Neutral'], xticklabels=['Negative', 'Positive', 'Neutral'])\n",
    "plt.title('Logistic Regession')\n",
    "plt.xlabel('Actual')\n",
    "plt.ylabel('Predicted')"
   ]
  },
  {
   "cell_type": "code",
   "execution_count": 212,
   "metadata": {},
   "outputs": [
    {
     "data": {
      "text/plain": [
       "20"
      ]
     },
     "execution_count": 212,
     "metadata": {},
     "output_type": "execute_result"
    }
   ],
   "source": [
    "df = pd.DataFrame({\"true\": y_test, \"predicted\":lr_test_preds})\n",
    "len(df.loc[(df.true==1) & (df.predicted==0)])"
   ]
  },
  {
   "cell_type": "markdown",
   "metadata": {},
   "source": [
    "## Emotion categories"
   ]
  },
  {
   "cell_type": "code",
   "execution_count": 10,
   "metadata": {},
   "outputs": [],
   "source": [
    "X = corpus_df_emotion['word_tag_tuples']\n",
    "y = emotion_df['label']\n",
    "\n",
    "X_train, X_test, y_train, y_test = train_test_split(X, y, stratify=y, random_state=1)\n"
   ]
  },
  {
   "cell_type": "code",
   "execution_count": 11,
   "metadata": {},
   "outputs": [
    {
     "data": {
      "text/plain": [
       "(746, 1)"
      ]
     },
     "execution_count": 11,
     "metadata": {},
     "output_type": "execute_result"
    }
   ],
   "source": [
    "vectorizer = TfidfVectorizer()\n",
    "tf_idf_X_train = vectorizer.fit_transform(X_train)\n",
    "tf_idf_X_test = vectorizer.transform(X_test)\n",
    "tf_idf_X_train.shape\n"
   ]
  },
  {
   "cell_type": "code",
   "execution_count": 12,
   "metadata": {},
   "outputs": [
    {
     "data": {
      "text/plain": [
       "(1614, 1)"
      ]
     },
     "execution_count": 12,
     "metadata": {},
     "output_type": "execute_result"
    }
   ],
   "source": [
    "smt = SMOTE(sampling_strategy='not majority')\n",
    "X_res, y_res = smt.fit_resample(tf_idf_X_train, y_train)\n",
    "X_res.shape\n"
   ]
  },
  {
   "cell_type": "code",
   "execution_count": 18,
   "metadata": {},
   "outputs": [
    {
     "name": "stderr",
     "output_type": "stream",
     "text": [
      "/anaconda3/lib/python3.7/site-packages/sklearn/ensemble/forest.py:245: FutureWarning: The default value of n_estimators will change from 10 in version 0.20 to 100 in 0.22.\n",
      "  \"10 in version 0.20 to 100 in 0.22.\", FutureWarning)\n",
      "/anaconda3/lib/python3.7/site-packages/sklearn/linear_model/logistic.py:432: FutureWarning: Default solver will be changed to 'lbfgs' in 0.22. Specify a solver to silence this warning.\n",
      "  FutureWarning)\n",
      "/anaconda3/lib/python3.7/site-packages/sklearn/linear_model/logistic.py:469: FutureWarning: Default multi_class will be changed to 'auto' in 0.22. Specify the multi_class option to silence this warning.\n",
      "  \"this warning.\", FutureWarning)\n"
     ]
    }
   ],
   "source": [
    "nb_classifier = MultinomialNB(fit_prior=True)\n",
    "rf_classifier = RandomForestClassifier(max_depth=25, class_weight='balanced')\n",
    "knn_classifier = KNeighborsClassifier(n_neighbors=5)\n",
    "lr_classifier = LogisticRegression(C=1e10, class_weight='balanced')\n",
    "\n",
    "nb_classifier.fit(X_res, y_res)\n",
    "nb_train_preds = nb_classifier.predict(X_res)\n",
    "nb_test_preds = nb_classifier.predict(tf_idf_X_test)\n",
    "\n",
    "rf_classifier.fit(X_res, y_res)\n",
    "rf_train_preds = rf_classifier.predict(X_res)\n",
    "rf_test_preds = rf_classifier.predict(tf_idf_X_test)\n",
    "\n",
    "knn_classifier.fit(X_res, y_res)\n",
    "knn_train_preds = knn_classifier.predict(X_res)\n",
    "knn_test_preds = knn_classifier.predict(tf_idf_X_test)\n",
    "\n",
    "lr_classifier.fit(X_res, y_res)\n",
    "lr_train_preds = lr_classifier.predict(X_res)\n",
    "lr_test_preds = lr_classifier.predict(tf_idf_X_test)"
   ]
  },
  {
   "cell_type": "code",
   "execution_count": 16,
   "metadata": {},
   "outputs": [
    {
     "name": "stderr",
     "output_type": "stream",
     "text": [
      "/anaconda3/lib/python3.7/site-packages/sklearn/metrics/classification.py:1437: UndefinedMetricWarning: F-score is ill-defined and being set to 0.0 in labels with no predicted samples.\n",
      "  'precision', 'predicted', average, warn_for)\n",
      "/anaconda3/lib/python3.7/site-packages/sklearn/metrics/classification.py:1437: UndefinedMetricWarning: F-score is ill-defined and being set to 0.0 in labels with no predicted samples.\n",
      "  'precision', 'predicted', average, warn_for)\n",
      "/anaconda3/lib/python3.7/site-packages/sklearn/metrics/classification.py:1437: UndefinedMetricWarning: F-score is ill-defined and being set to 0.0 in labels with no predicted samples.\n",
      "  'precision', 'predicted', average, warn_for)\n",
      "/anaconda3/lib/python3.7/site-packages/sklearn/metrics/classification.py:1437: UndefinedMetricWarning: F-score is ill-defined and being set to 0.0 in labels with no predicted samples.\n",
      "  'precision', 'predicted', average, warn_for)\n",
      "/anaconda3/lib/python3.7/site-packages/sklearn/metrics/classification.py:1437: UndefinedMetricWarning: F-score is ill-defined and being set to 0.0 in labels with no predicted samples.\n",
      "  'precision', 'predicted', average, warn_for)\n",
      "/anaconda3/lib/python3.7/site-packages/sklearn/metrics/classification.py:1437: UndefinedMetricWarning: F-score is ill-defined and being set to 0.0 in labels with no predicted samples.\n",
      "  'precision', 'predicted', average, warn_for)\n",
      "/anaconda3/lib/python3.7/site-packages/sklearn/metrics/classification.py:1437: UndefinedMetricWarning: F-score is ill-defined and being set to 0.0 in labels with no predicted samples.\n",
      "  'precision', 'predicted', average, warn_for)\n",
      "/anaconda3/lib/python3.7/site-packages/sklearn/metrics/classification.py:1437: UndefinedMetricWarning: F-score is ill-defined and being set to 0.0 in labels with no predicted samples.\n",
      "  'precision', 'predicted', average, warn_for)\n"
     ]
    },
    {
     "name": "stdout",
     "output_type": "stream",
     "text": [
      "Multinomial Naive Bayes\n",
      "Training Accuracy: 0.16666666666666666\n",
      "Training F1: 0.04761904761904761\n",
      "Testing Accuracy: 0.0642570281124498\n",
      "Testing F1: 0.007759339243767523\n",
      "\n",
      "\n",
      "Random Forest\n",
      "Training Accuracy: 0.16666666666666666\n",
      "Training F1: 0.04761904761904761\n",
      "Testing Accuracy: 0.3614457831325301\n",
      "Testing F1: 0.1919181149376266\n",
      "\n",
      "\n",
      "K Nearest Neighbors\n",
      "Training Accuracy: 0.16666666666666666\n",
      "Training F1: 0.04761904761904761\n",
      "Testing Accuracy: 0.024096385542168676\n",
      "Testing F1: 0.0011339475549255846\n",
      "\n",
      "\n",
      "Logistic Regression\n",
      "Training Accuracy: 0.16666666666666666\n",
      "Training F1: 0.04761904761904761\n",
      "Testing Accuracy: 0.18473895582329317\n",
      "Testing F1: 0.057613504866925326\n"
     ]
    },
    {
     "data": {
      "text/plain": [
       "Text(373.36363636363626, 0.5, 'Predicted')"
      ]
     },
     "execution_count": 16,
     "metadata": {},
     "output_type": "execute_result"
    },
    {
     "data": {
      "image/png": "[encoded data removed]",
      "text/plain": [
       "<Figure size 720x720 with 8 Axes>"
      ]
     },
     "metadata": {
      "needs_background": "light"
     },
     "output_type": "display_data"
    }
   ],
   "source": [
    "nb_train_acc = accuracy_score(y_res, nb_train_preds)\n",
    "nb_test_acc = accuracy_score(y_test, nb_test_preds)\n",
    "nb_train_f1 = f1_score(y_res, nb_train_preds, average='weighted')\n",
    "nb_test_f1 = f1_score(y_test, nb_test_preds, average='weighted')\n",
    "rf_train_acc = accuracy_score(y_res, rf_train_preds)\n",
    "rf_test_acc = accuracy_score(y_test, rf_test_preds)\n",
    "rf_train_f1 = f1_score(y_res, rf_train_preds, average='weighted')\n",
    "rf_test_f1 = f1_score(y_test, rf_test_preds, average='weighted')\n",
    "knn_train_acc = accuracy_score(y_res, knn_train_preds)\n",
    "knn_test_acc = accuracy_score(y_test, knn_test_preds)\n",
    "knn_train_f1 = f1_score(y_res, knn_train_preds, average='weighted')\n",
    "knn_test_f1 = f1_score(y_test, knn_test_preds, average='weighted')\n",
    "lr_train_acc = accuracy_score(y_res, lr_train_preds)\n",
    "lr_test_acc = accuracy_score(y_test, lr_test_preds)\n",
    "lr_train_f1 = f1_score(y_res, lr_train_preds, average='weighted')\n",
    "lr_test_f1 = f1_score(y_test, lr_test_preds, average='weighted')\n",
    "\n",
    "# note that the the high negative class is being treated as the target \n",
    "\n",
    "print(\"Multinomial Naive Bayes\")\n",
    "print(\"Training Accuracy:\", nb_train_acc)\n",
    "print(\"Training F1:\", nb_train_f1)\n",
    "print(\"Testing Accuracy:\", nb_test_acc)\n",
    "print(\"Testing F1:\", nb_test_f1)\n",
    "print(\"\\n\")\n",
    "plt.figure(figsize=(10,10))\n",
    "plt.subplot(2,2,1)\n",
    "cm = confusion_matrix(y_test, nb_test_preds)\n",
    "sns.heatmap(cm.T, square=True, annot=True, yticklabels=['Anger', 'Disgust', 'Fear', 'Joy', 'Sadness', 'Surprise'], xticklabels=['Anger', 'Disgust', 'Fear', 'Joy', 'Sadness', 'Surprise'])\n",
    "plt.title('Naive Bayes')\n",
    "plt.xlabel('Actual')\n",
    "plt.ylabel('Predicted')\n",
    "\n",
    "print('Random Forest')\n",
    "print(\"Training Accuracy:\", rf_train_acc)\n",
    "print(\"Training F1:\", nb_train_f1)\n",
    "print(\"Testing Accuracy:\", rf_test_acc)\n",
    "print(\"Testing F1:\", rf_test_f1)\n",
    "print(\"\\n\")\n",
    "plt.subplot(2,2,2)\n",
    "cm = confusion_matrix(y_test, rf_test_preds)\n",
    "sns.heatmap(cm.T, square=True, annot=True, yticklabels=['Anger', 'Disgust', 'Fear', 'Joy', 'Sadness', 'Surprise'], xticklabels=['Anger', 'Disgust', 'Fear', 'Joy', 'Sadness', 'Surprise'])\n",
    "plt.title('Random Forest')\n",
    "plt.xlabel('Actual')\n",
    "plt.ylabel('Predicted')\n",
    "\n",
    "print('K Nearest Neighbors')\n",
    "print(\"Training Accuracy:\", knn_train_acc)\n",
    "print(\"Training F1:\", knn_train_f1)\n",
    "print(\"Testing Accuracy:\", knn_test_acc)\n",
    "print(\"Testing F1:\", knn_test_f1)\n",
    "print(\"\\n\")\n",
    "plt.subplot(2,2,3)\n",
    "cm = confusion_matrix(y_test, knn_test_preds)\n",
    "sns.heatmap(cm.T, square=True, annot=True, yticklabels=['Anger', 'Disgust', 'Fear', 'Joy', 'Sadness', 'Surprise'], xticklabels=['Anger', 'Disgust', 'Fear', 'Joy', 'Sadness', 'Surprise'])\n",
    "plt.title('K Nearest Neighbor')\n",
    "plt.xlabel('Actual')\n",
    "plt.ylabel('Predicted')\n",
    "\n",
    "print('Logistic Regression')\n",
    "print(\"Training Accuracy:\", lr_train_acc)\n",
    "print(\"Training F1:\", lr_train_f1)\n",
    "print(\"Testing Accuracy:\", lr_test_acc)\n",
    "print(\"Testing F1:\", lr_test_f1)\n",
    "plt.subplot(2,2,4)\n",
    "cm = confusion_matrix(y_test, lr_test_preds)\n",
    "sns.heatmap(cm.T, square=True, annot=True, yticklabels=['Anger', 'Disgust', 'Fear', 'Joy', 'Sadness', 'Surprise'], xticklabels=['Anger', 'Disgust', 'Fear', 'Joy', 'Sadness', 'Surprise'])\n",
    "plt.title('Logistic Regession')\n",
    "plt.xlabel('Actual')\n",
    "plt.ylabel('Predicted')"
   ]
  },
  {
   "cell_type": "code",
   "execution_count": 17,
   "metadata": {},
   "outputs": [
    {
     "data": {
      "text/plain": [
       "0"
      ]
     },
     "execution_count": 17,
     "metadata": {},
     "output_type": "execute_result"
    }
   ],
   "source": [
    "df = pd.DataFrame({\"true\": y_test, \"predicted\":lr_test_preds})\n",
    "len(df.loc[(df.true==4) & (df.predicted==3)])"
   ]
  },
  {
   "cell_type": "markdown",
   "metadata": {},
   "source": [
    "## Neural Network: Strong Pos/Neg Valence "
   ]
  },
  {
   "cell_type": "code",
   "execution_count": 174,
   "metadata": {},
   "outputs": [
    {
     "name": "stdout",
     "output_type": "stream",
     "text": [
      "Train on 602 samples, validate on 185 samples\n",
      "Epoch 1/50\n",
      "602/602 [==============================] - 1s 2ms/step - loss: 0.3772 - acc: 0.5033 - val_loss: 0.2622 - val_acc: 0.5946\n",
      "Epoch 2/50\n",
      "602/602 [==============================] - 0s 236us/step - loss: 0.1943 - acc: 0.7243 - val_loss: 0.2173 - val_acc: 0.6649\n",
      "Epoch 3/50\n",
      "602/602 [==============================] - 0s 203us/step - loss: 0.1185 - acc: 0.8372 - val_loss: 0.2019 - val_acc: 0.6811\n",
      "Epoch 4/50\n",
      "602/602 [==============================] - 0s 275us/step - loss: 0.0694 - acc: 0.9020 - val_loss: 0.1878 - val_acc: 0.7297\n",
      "Epoch 5/50\n",
      "602/602 [==============================] - 0s 288us/step - loss: 0.0468 - acc: 0.9419 - val_loss: 0.1802 - val_acc: 0.7405\n",
      "Epoch 6/50\n",
      "602/602 [==============================] - 0s 229us/step - loss: 0.0305 - acc: 0.9601 - val_loss: 0.1746 - val_acc: 0.7568\n",
      "Epoch 7/50\n",
      "602/602 [==============================] - 0s 246us/step - loss: 0.0161 - acc: 0.9701 - val_loss: 0.1619 - val_acc: 0.7784\n",
      "Epoch 8/50\n",
      "602/602 [==============================] - 0s 278us/step - loss: 0.0141 - acc: 0.9834 - val_loss: 0.1538 - val_acc: 0.7838\n",
      "Epoch 9/50\n",
      "602/602 [==============================] - 0s 231us/step - loss: 0.0115 - acc: 0.9850 - val_loss: 0.1577 - val_acc: 0.7946\n",
      "Epoch 10/50\n",
      "602/602 [==============================] - 0s 208us/step - loss: 0.0101 - acc: 0.9850 - val_loss: 0.1699 - val_acc: 0.7730\n",
      "Epoch 11/50\n",
      "602/602 [==============================] - 0s 247us/step - loss: 0.0094 - acc: 0.9884 - val_loss: 0.1757 - val_acc: 0.7784\n",
      "Epoch 12/50\n",
      "602/602 [==============================] - 0s 258us/step - loss: 0.0060 - acc: 0.9917 - val_loss: 0.1772 - val_acc: 0.7784\n",
      "Epoch 13/50\n",
      "602/602 [==============================] - 0s 259us/step - loss: 0.0030 - acc: 0.9967 - val_loss: 0.1765 - val_acc: 0.7838\n",
      "Epoch 14/50\n",
      "602/602 [==============================] - 0s 252us/step - loss: 0.0019 - acc: 1.0000 - val_loss: 0.1767 - val_acc: 0.7784\n",
      "Epoch 15/50\n",
      "602/602 [==============================] - 0s 258us/step - loss: 0.0051 - acc: 0.9934 - val_loss: 0.1789 - val_acc: 0.7730\n",
      "Epoch 16/50\n",
      "602/602 [==============================] - 0s 253us/step - loss: 0.0045 - acc: 0.9950 - val_loss: 0.1788 - val_acc: 0.7838\n",
      "Epoch 17/50\n",
      "602/602 [==============================] - 0s 218us/step - loss: 0.0070 - acc: 0.9917 - val_loss: 0.1774 - val_acc: 0.7784\n",
      "Epoch 18/50\n",
      "602/602 [==============================] - 0s 267us/step - loss: 0.0051 - acc: 0.9950 - val_loss: 0.1758 - val_acc: 0.7892\n",
      "Epoch 19/50\n",
      "602/602 [==============================] - 0s 253us/step - loss: 0.0051 - acc: 0.9917 - val_loss: 0.1766 - val_acc: 0.7838\n",
      "Epoch 20/50\n",
      "602/602 [==============================] - 0s 292us/step - loss: 0.0020 - acc: 1.0000 - val_loss: 0.1736 - val_acc: 0.7730\n",
      "Epoch 21/50\n",
      "602/602 [==============================] - 0s 276us/step - loss: 0.0096 - acc: 0.9867 - val_loss: 0.1701 - val_acc: 0.7784\n",
      "Epoch 22/50\n",
      "602/602 [==============================] - 0s 279us/step - loss: 0.0058 - acc: 0.9917 - val_loss: 0.1693 - val_acc: 0.7892\n",
      "Epoch 23/50\n",
      "602/602 [==============================] - 0s 270us/step - loss: 0.0056 - acc: 0.9950 - val_loss: 0.1625 - val_acc: 0.8000\n",
      "Epoch 24/50\n",
      "602/602 [==============================] - 0s 256us/step - loss: 0.0033 - acc: 0.9967 - val_loss: 0.1632 - val_acc: 0.7946\n",
      "Epoch 25/50\n",
      "602/602 [==============================] - 0s 215us/step - loss: 0.0043 - acc: 0.9950 - val_loss: 0.1649 - val_acc: 0.7892\n",
      "Epoch 26/50\n",
      "602/602 [==============================] - 0s 266us/step - loss: 0.0075 - acc: 0.9900 - val_loss: 0.1662 - val_acc: 0.7838\n",
      "Epoch 27/50\n",
      "602/602 [==============================] - 0s 321us/step - loss: 0.0017 - acc: 0.9983 - val_loss: 0.1684 - val_acc: 0.7838\n",
      "Epoch 28/50\n",
      "602/602 [==============================] - 0s 280us/step - loss: 0.0050 - acc: 0.9950 - val_loss: 0.1713 - val_acc: 0.7838\n",
      "Epoch 29/50\n",
      "602/602 [==============================] - 0s 268us/step - loss: 0.0034 - acc: 0.9967 - val_loss: 0.1775 - val_acc: 0.7892\n",
      "Epoch 30/50\n",
      "602/602 [==============================] - 0s 243us/step - loss: 0.0073 - acc: 0.9884 - val_loss: 0.1797 - val_acc: 0.7838\n",
      "Epoch 31/50\n",
      "602/602 [==============================] - 0s 242us/step - loss: 0.0059 - acc: 0.9934 - val_loss: 0.1757 - val_acc: 0.7946\n",
      "Epoch 32/50\n",
      "602/602 [==============================] - 0s 253us/step - loss: 0.0019 - acc: 0.9967 - val_loss: 0.1674 - val_acc: 0.7892\n",
      "Epoch 33/50\n",
      "602/602 [==============================] - 0s 206us/step - loss: 0.0047 - acc: 0.9934 - val_loss: 0.1599 - val_acc: 0.8054\n",
      "Epoch 34/50\n",
      "602/602 [==============================] - 0s 299us/step - loss: 0.0038 - acc: 0.9950 - val_loss: 0.1584 - val_acc: 0.8108\n",
      "Epoch 35/50\n",
      "602/602 [==============================] - 0s 317us/step - loss: 0.0060 - acc: 0.9950 - val_loss: 0.1576 - val_acc: 0.8162\n",
      "Epoch 36/50\n",
      "602/602 [==============================] - 0s 239us/step - loss: 0.0038 - acc: 0.9950 - val_loss: 0.1575 - val_acc: 0.8108\n",
      "Epoch 37/50\n",
      "602/602 [==============================] - 0s 239us/step - loss: 0.0052 - acc: 0.9950 - val_loss: 0.1604 - val_acc: 0.8000\n",
      "Epoch 38/50\n",
      "602/602 [==============================] - 0s 278us/step - loss: 0.0038 - acc: 0.9967 - val_loss: 0.1629 - val_acc: 0.8054\n",
      "Epoch 39/50\n",
      "602/602 [==============================] - 0s 274us/step - loss: 0.0011 - acc: 1.0000 - val_loss: 0.1635 - val_acc: 0.8054\n",
      "Epoch 40/50\n",
      "602/602 [==============================] - 0s 239us/step - loss: 0.0037 - acc: 0.9967 - val_loss: 0.1630 - val_acc: 0.8054\n",
      "Epoch 41/50\n",
      "602/602 [==============================] - 0s 262us/step - loss: 0.0034 - acc: 0.9950 - val_loss: 0.1644 - val_acc: 0.8000\n",
      "Epoch 42/50\n",
      "602/602 [==============================] - 0s 262us/step - loss: 0.0030 - acc: 0.9967 - val_loss: 0.1647 - val_acc: 0.7946\n",
      "Epoch 43/50\n",
      "602/602 [==============================] - 0s 297us/step - loss: 0.0012 - acc: 1.0000 - val_loss: 0.1622 - val_acc: 0.8054\n",
      "Epoch 44/50\n",
      "602/602 [==============================] - 0s 250us/step - loss: 0.0028 - acc: 0.9967 - val_loss: 0.1602 - val_acc: 0.8054\n",
      "Epoch 45/50\n",
      "602/602 [==============================] - 0s 254us/step - loss: 0.0068 - acc: 0.9867 - val_loss: 0.1589 - val_acc: 0.8108\n",
      "Epoch 46/50\n",
      "602/602 [==============================] - 0s 283us/step - loss: 0.0026 - acc: 0.9950 - val_loss: 0.1573 - val_acc: 0.8162\n",
      "Epoch 47/50\n",
      "602/602 [==============================] - 0s 230us/step - loss: 0.0025 - acc: 0.9967 - val_loss: 0.1576 - val_acc: 0.8108\n",
      "Epoch 48/50\n",
      "602/602 [==============================] - 0s 277us/step - loss: 0.0044 - acc: 0.9967 - val_loss: 0.1565 - val_acc: 0.8108\n",
      "Epoch 49/50\n",
      "602/602 [==============================] - 0s 192us/step - loss: 0.0041 - acc: 0.9967 - val_loss: 0.1556 - val_acc: 0.8216\n",
      "Epoch 50/50\n",
      "602/602 [==============================] - 0s 323us/step - loss: 0.0058 - acc: 0.9917 - val_loss: 0.1538 - val_acc: 0.8162\n"
     ]
    }
   ],
   "source": [
    "y = valence_df['label'].loc[(valence_df['label']==1)|(valence_df['label']==0)]\n",
    "X = corpus_df['text'].iloc[y.index]\n",
    "\n",
    "# from keras.utils import to_categorical\n",
    "# y_binary = to_categorical(y)\n",
    "\n",
    "X_train, X_test, y_train, y_test = train_test_split(X, y, stratify=y, random_state=1)\n",
    "\n",
    "vectorizer = TfidfVectorizer()\n",
    "tf_idf_X_train = vectorizer.fit_transform(X_train)\n",
    "tf_idf_X_test = vectorizer.transform(X_test)\n",
    "\n",
    "smt = SMOTE(sampling_strategy='not majority')\n",
    "X_res, y_res = smt.fit_resample(tf_idf_X_train, y_train)\n",
    "y_res = pd.get_dummies(y_res).values\n",
    "\n",
    "num_features = 1615\n",
    "num_classes = 2\n",
    "\n",
    "model = Sequential()\n",
    "# first layer, includes input shape\n",
    "model.add(Dense(300, activation='relu', input_shape=(num_features, )))\n",
    "model.add(BatchNormalization())\n",
    "model.add(Dropout(0.5))\n",
    "# second layer\n",
    "model.add(Dense(150, activation='relu'))\n",
    "model.add(BatchNormalization())\n",
    "model.add(Dropout(0.5))\n",
    "# final layer with the number of classes as the number of outputs\n",
    "# uses a softmax classifier, which is standard for NLP\n",
    "model.add(Dense(num_classes, activation='softmax'))\n",
    "\n",
    "model.compile(loss='mean_squared_error',\n",
    "              optimizer=Adam(lr=.002, decay=.00001),\n",
    "              metrics=['accuracy'])\n",
    "              \n",
    "history = model.fit(X_res, \n",
    "                    y_res,\n",
    "                    epochs=50,\n",
    "                    batch_size=100,\n",
    "                    validation_data=(tf_idf_X_test, pd.get_dummies(y_test)))"
   ]
  },
  {
   "cell_type": "code",
   "execution_count": 150,
   "metadata": {},
   "outputs": [
    {
     "name": "stdout",
     "output_type": "stream",
     "text": [
      "185/185 [==============================] - 0s 134us/step\n",
      "[0.17044270328573277, 0.794594596205531]\n"
     ]
    },
    {
     "data": {
      "text/plain": [
       "[<matplotlib.lines.Line2D at 0x1a40a5d6d8>]"
      ]
     },
     "execution_count": 150,
     "metadata": {},
     "output_type": "execute_result"
    },
    {
     "data": {
      "image/png": "[encoded data removed]",
      "text/plain": [
       "<Figure size 432x288 with 1 Axes>"
      ]
     },
     "metadata": {
      "needs_background": "light"
     },
     "output_type": "display_data"
    }
   ],
   "source": [
    "print(model.evaluate(tf_idf_X_test, pd.get_dummies(y_test)))\n",
    "\n",
    "plt.plot(history.history['val_acc'], color='blue')\n",
    "plt.plot(history.history['val_loss'])"
   ]
  },
  {
   "cell_type": "markdown",
   "metadata": {},
   "source": [
    "## Neural Network: All Valence Labels"
   ]
  },
  {
   "cell_type": "code",
   "execution_count": 151,
   "metadata": {},
   "outputs": [
    {
     "name": "stdout",
     "output_type": "stream",
     "text": [
      "Train on 903 samples, validate on 250 samples\n",
      "Epoch 1/50\n",
      "903/903 [==============================] - 2s 2ms/step - loss: 0.2396 - acc: 0.4917 - val_loss: 0.2471 - val_acc: 0.4960\n",
      "Epoch 2/50\n",
      "903/903 [==============================] - 0s 290us/step - loss: 0.0668 - acc: 0.8616 - val_loss: 0.2328 - val_acc: 0.5160\n",
      "Epoch 3/50\n",
      "903/903 [==============================] - 0s 234us/step - loss: 0.0231 - acc: 0.9535 - val_loss: 0.2329 - val_acc: 0.5360\n",
      "Epoch 4/50\n",
      "903/903 [==============================] - 0s 273us/step - loss: 0.0118 - acc: 0.9801 - val_loss: 0.2272 - val_acc: 0.5440\n",
      "Epoch 5/50\n",
      "903/903 [==============================] - 0s 321us/step - loss: 0.0074 - acc: 0.9900 - val_loss: 0.2245 - val_acc: 0.5480\n",
      "Epoch 6/50\n",
      "903/903 [==============================] - 0s 245us/step - loss: 0.0048 - acc: 0.9922 - val_loss: 0.2215 - val_acc: 0.5280\n",
      "Epoch 7/50\n",
      "903/903 [==============================] - 0s 242us/step - loss: 0.0032 - acc: 0.9945 - val_loss: 0.2205 - val_acc: 0.5520\n",
      "Epoch 8/50\n",
      "903/903 [==============================] - 0s 285us/step - loss: 0.0034 - acc: 0.9945 - val_loss: 0.2195 - val_acc: 0.5480\n",
      "Epoch 9/50\n",
      "903/903 [==============================] - 0s 240us/step - loss: 0.0018 - acc: 0.9978 - val_loss: 0.2164 - val_acc: 0.5560\n",
      "Epoch 10/50\n",
      "903/903 [==============================] - 0s 225us/step - loss: 0.0019 - acc: 0.9978 - val_loss: 0.2131 - val_acc: 0.5640\n",
      "Epoch 11/50\n",
      "903/903 [==============================] - 0s 229us/step - loss: 0.0018 - acc: 0.9978 - val_loss: 0.2130 - val_acc: 0.5680\n",
      "Epoch 12/50\n",
      "903/903 [==============================] - 0s 231us/step - loss: 0.0013 - acc: 0.9989 - val_loss: 0.2174 - val_acc: 0.5600\n",
      "Epoch 13/50\n",
      "903/903 [==============================] - 0s 226us/step - loss: 0.0019 - acc: 0.9967 - val_loss: 0.2184 - val_acc: 0.5600\n",
      "Epoch 14/50\n",
      "903/903 [==============================] - 0s 402us/step - loss: 0.0024 - acc: 0.9967 - val_loss: 0.2200 - val_acc: 0.5680\n",
      "Epoch 15/50\n",
      "903/903 [==============================] - 0s 363us/step - loss: 0.0027 - acc: 0.9956 - val_loss: 0.2200 - val_acc: 0.5720\n",
      "Epoch 16/50\n",
      "903/903 [==============================] - 0s 325us/step - loss: 0.0021 - acc: 0.9956 - val_loss: 0.2264 - val_acc: 0.5560\n",
      "Epoch 17/50\n",
      "903/903 [==============================] - 0s 314us/step - loss: 0.0040 - acc: 0.9934 - val_loss: 0.2358 - val_acc: 0.5320\n",
      "Epoch 18/50\n",
      "903/903 [==============================] - 0s 247us/step - loss: 0.0027 - acc: 0.9956 - val_loss: 0.2438 - val_acc: 0.4960\n",
      "Epoch 19/50\n",
      "903/903 [==============================] - 0s 235us/step - loss: 0.0056 - acc: 0.9911 - val_loss: 0.2545 - val_acc: 0.5080\n",
      "Epoch 20/50\n",
      "903/903 [==============================] - 0s 373us/step - loss: 0.0036 - acc: 0.9945 - val_loss: 0.2501 - val_acc: 0.5080\n",
      "Epoch 21/50\n",
      "903/903 [==============================] - 0s 315us/step - loss: 0.0034 - acc: 0.9956 - val_loss: 0.2510 - val_acc: 0.5200\n",
      "Epoch 22/50\n",
      "903/903 [==============================] - 0s 394us/step - loss: 0.0040 - acc: 0.9934 - val_loss: 0.2579 - val_acc: 0.5120\n",
      "Epoch 23/50\n",
      "903/903 [==============================] - 0s 297us/step - loss: 0.0016 - acc: 0.9989 - val_loss: 0.2605 - val_acc: 0.5080\n",
      "Epoch 24/50\n",
      "903/903 [==============================] - 0s 327us/step - loss: 0.0020 - acc: 0.9978 - val_loss: 0.2627 - val_acc: 0.5120\n",
      "Epoch 25/50\n",
      "903/903 [==============================] - 0s 330us/step - loss: 0.0025 - acc: 0.9956 - val_loss: 0.2609 - val_acc: 0.5120\n",
      "Epoch 26/50\n",
      "903/903 [==============================] - 0s 281us/step - loss: 0.0032 - acc: 0.9934 - val_loss: 0.2539 - val_acc: 0.5280\n",
      "Epoch 27/50\n",
      "903/903 [==============================] - 0s 245us/step - loss: 0.0031 - acc: 0.9967 - val_loss: 0.2575 - val_acc: 0.5160\n",
      "Epoch 28/50\n",
      "903/903 [==============================] - 0s 305us/step - loss: 0.0043 - acc: 0.9934 - val_loss: 0.2624 - val_acc: 0.5000\n",
      "Epoch 29/50\n",
      "903/903 [==============================] - 0s 309us/step - loss: 0.0034 - acc: 0.9934 - val_loss: 0.2681 - val_acc: 0.4880\n",
      "Epoch 30/50\n",
      "903/903 [==============================] - 0s 253us/step - loss: 0.0039 - acc: 0.9956 - val_loss: 0.2704 - val_acc: 0.4800\n",
      "Epoch 31/50\n",
      "903/903 [==============================] - 0s 453us/step - loss: 0.0034 - acc: 0.9956 - val_loss: 0.2724 - val_acc: 0.4880\n",
      "Epoch 32/50\n",
      "903/903 [==============================] - 0s 327us/step - loss: 0.0034 - acc: 0.9956 - val_loss: 0.2658 - val_acc: 0.4960\n",
      "Epoch 33/50\n",
      "903/903 [==============================] - 0s 324us/step - loss: 0.0032 - acc: 0.9967 - val_loss: 0.2620 - val_acc: 0.5120\n",
      "Epoch 34/50\n",
      "903/903 [==============================] - 0s 303us/step - loss: 0.0049 - acc: 0.9911 - val_loss: 0.2638 - val_acc: 0.5240\n",
      "Epoch 35/50\n",
      "903/903 [==============================] - 0s 315us/step - loss: 0.0038 - acc: 0.9945 - val_loss: 0.2637 - val_acc: 0.5040\n",
      "Epoch 36/50\n",
      "903/903 [==============================] - 0s 307us/step - loss: 0.0049 - acc: 0.9911 - val_loss: 0.2628 - val_acc: 0.5120\n",
      "Epoch 37/50\n",
      "903/903 [==============================] - 0s 310us/step - loss: 0.0039 - acc: 0.9911 - val_loss: 0.2607 - val_acc: 0.5200\n",
      "Epoch 38/50\n",
      "903/903 [==============================] - 0s 284us/step - loss: 0.0022 - acc: 0.9967 - val_loss: 0.2636 - val_acc: 0.5200\n",
      "Epoch 39/50\n",
      "903/903 [==============================] - 0s 248us/step - loss: 0.0026 - acc: 0.9956 - val_loss: 0.2655 - val_acc: 0.5240\n",
      "Epoch 40/50\n",
      "903/903 [==============================] - 0s 230us/step - loss: 0.0024 - acc: 0.9967 - val_loss: 0.2618 - val_acc: 0.5360\n",
      "Epoch 41/50\n",
      "903/903 [==============================] - 0s 264us/step - loss: 0.0021 - acc: 0.9978 - val_loss: 0.2621 - val_acc: 0.5320\n",
      "Epoch 42/50\n",
      "903/903 [==============================] - 0s 228us/step - loss: 0.0029 - acc: 0.9956 - val_loss: 0.2666 - val_acc: 0.5240\n",
      "Epoch 43/50\n",
      "903/903 [==============================] - 0s 219us/step - loss: 0.0037 - acc: 0.9945 - val_loss: 0.2642 - val_acc: 0.5320\n",
      "Epoch 44/50\n",
      "903/903 [==============================] - 0s 221us/step - loss: 0.0039 - acc: 0.9945 - val_loss: 0.2616 - val_acc: 0.5400\n",
      "Epoch 45/50\n",
      "903/903 [==============================] - 0s 220us/step - loss: 0.0032 - acc: 0.9945 - val_loss: 0.2620 - val_acc: 0.5280\n",
      "Epoch 46/50\n",
      "903/903 [==============================] - 0s 222us/step - loss: 0.0031 - acc: 0.9945 - val_loss: 0.2580 - val_acc: 0.5440\n",
      "Epoch 47/50\n",
      "903/903 [==============================] - 0s 225us/step - loss: 0.0063 - acc: 0.9889 - val_loss: 0.2560 - val_acc: 0.5480\n",
      "Epoch 48/50\n",
      "903/903 [==============================] - 0s 279us/step - loss: 0.0045 - acc: 0.9922 - val_loss: 0.2548 - val_acc: 0.5360\n",
      "Epoch 49/50\n",
      "903/903 [==============================] - 0s 334us/step - loss: 0.0036 - acc: 0.9945 - val_loss: 0.2501 - val_acc: 0.5480\n",
      "Epoch 50/50\n",
      "903/903 [==============================] - 0s 309us/step - loss: 0.0020 - acc: 0.9967 - val_loss: 0.2488 - val_acc: 0.5400\n"
     ]
    }
   ],
   "source": [
    "X = corpus_df['text']\n",
    "y = valence_df['label']\n",
    "\n",
    "from keras.utils import to_categorical\n",
    "y_binary = to_categorical(y)\n",
    "\n",
    "X_train, X_test, y_train, y_test = train_test_split(X, y_binary, stratify=y, random_state=42)\n",
    "\n",
    "vectorizer = TfidfVectorizer()\n",
    "tf_idf_X_train = vectorizer.fit_transform(X_train)\n",
    "tf_idf_X_test = vectorizer.transform(X_test)\n",
    "\n",
    "smt = SMOTE(sampling_strategy='not majority')\n",
    "X_res, y_res = smt.fit_resample(tf_idf_X_train, y_train)\n",
    "X_res.shape\n",
    "\n",
    "num_features = 2015\n",
    "num_classes = 3\n",
    "\n",
    "model = Sequential()\n",
    "# first layer, includes input shape\n",
    "model.add(Dense(300, activation='relu', input_shape=(num_features, )))\n",
    "model.add(BatchNormalization())\n",
    "model.add(Dropout(0.2))\n",
    "# second layer\n",
    "model.add(Dense(150, activation='relu'))\n",
    "model.add(BatchNormalization())\n",
    "model.add(Dropout(0.2))\n",
    "# final layer with the number of classes as the number of outputs\n",
    "# uses a softmax classifier, which is standard for NLP\n",
    "model.add(Dense(num_classes, activation='softmax'))\n",
    "\n",
    "model.compile(loss='mean_squared_error',\n",
    "              optimizer=Adam(lr=.002, decay=.00001),\n",
    "              metrics=['accuracy'])\n",
    "              \n",
    "history = model.fit(X_res, \n",
    "                    y_res,\n",
    "                    epochs=50,\n",
    "                    batch_size=100,\n",
    "                    validation_data=(tf_idf_X_test, y_test))"
   ]
  },
  {
   "cell_type": "code",
   "execution_count": 152,
   "metadata": {},
   "outputs": [
    {
     "name": "stdout",
     "output_type": "stream",
     "text": [
      "250/250 [==============================] - 0s 227us/step\n",
      "[0.2488353636264801, 0.5400000028610229]\n"
     ]
    },
    {
     "data": {
      "text/plain": [
       "[<matplotlib.lines.Line2D at 0x1a41102780>]"
      ]
     },
     "execution_count": 152,
     "metadata": {},
     "output_type": "execute_result"
    },
    {
     "data": {
      "image/png": "[encoded data removed]",
      "text/plain": [
       "<Figure size 432x288 with 1 Axes>"
      ]
     },
     "metadata": {
      "needs_background": "light"
     },
     "output_type": "display_data"
    }
   ],
   "source": [
    "print(model.evaluate(tf_idf_X_test, y_test))\n",
    "\n",
    "plt.plot(history.history['val_acc'], color='blue')\n",
    "plt.plot(history.history['val_loss'])"
   ]
  },
  {
   "cell_type": "markdown",
   "metadata": {},
   "source": [
    "## Neural Network: Emotion Labels"
   ]
  },
  {
   "cell_type": "code",
   "execution_count": 153,
   "metadata": {},
   "outputs": [
    {
     "name": "stdout",
     "output_type": "stream",
     "text": [
      "Train on 1614 samples, validate on 249 samples\n",
      "Epoch 1/50\n",
      "1614/1614 [==============================] - 2s 1ms/step - loss: 0.0991 - acc: 0.5446 - val_loss: 0.1433 - val_acc: 0.3574\n",
      "Epoch 2/50\n",
      "1614/1614 [==============================] - 1s 323us/step - loss: 0.0213 - acc: 0.9226 - val_loss: 0.1340 - val_acc: 0.4217\n",
      "Epoch 3/50\n",
      "1614/1614 [==============================] - 1s 316us/step - loss: 0.0067 - acc: 0.9765 - val_loss: 0.1333 - val_acc: 0.4217\n",
      "Epoch 4/50\n",
      "1614/1614 [==============================] - 0s 299us/step - loss: 0.0021 - acc: 0.9926 - val_loss: 0.1344 - val_acc: 0.4418\n",
      "Epoch 5/50\n",
      "1614/1614 [==============================] - 0s 288us/step - loss: 0.0011 - acc: 0.9975 - val_loss: 0.1341 - val_acc: 0.4538\n",
      "Epoch 6/50\n",
      "1614/1614 [==============================] - 0s 277us/step - loss: 7.0222e-04 - acc: 0.9975 - val_loss: 0.1342 - val_acc: 0.4699\n",
      "Epoch 7/50\n",
      "1614/1614 [==============================] - 0s 287us/step - loss: 6.5609e-04 - acc: 0.9988 - val_loss: 0.1362 - val_acc: 0.4498\n",
      "Epoch 8/50\n",
      "1614/1614 [==============================] - 1s 343us/step - loss: 8.0255e-04 - acc: 0.9981 - val_loss: 0.1370 - val_acc: 0.4498\n",
      "Epoch 9/50\n",
      "1614/1614 [==============================] - 0s 309us/step - loss: 4.7756e-04 - acc: 0.9994 - val_loss: 0.1363 - val_acc: 0.4538\n",
      "Epoch 10/50\n",
      "1614/1614 [==============================] - 0s 309us/step - loss: 7.1479e-04 - acc: 0.9975 - val_loss: 0.1358 - val_acc: 0.4618\n",
      "Epoch 11/50\n",
      "1614/1614 [==============================] - 0s 292us/step - loss: 5.7826e-04 - acc: 0.9988 - val_loss: 0.1365 - val_acc: 0.4618\n",
      "Epoch 12/50\n",
      "1614/1614 [==============================] - 1s 314us/step - loss: 4.6747e-04 - acc: 0.9988 - val_loss: 0.1386 - val_acc: 0.4578\n",
      "Epoch 13/50\n",
      "1614/1614 [==============================] - 1s 310us/step - loss: 3.4309e-04 - acc: 0.9994 - val_loss: 0.1390 - val_acc: 0.4578\n",
      "Epoch 14/50\n",
      "1614/1614 [==============================] - 0s 304us/step - loss: 6.0711e-04 - acc: 0.9981 - val_loss: 0.1385 - val_acc: 0.4859\n",
      "Epoch 15/50\n",
      "1614/1614 [==============================] - 0s 307us/step - loss: 5.9966e-04 - acc: 0.9988 - val_loss: 0.1407 - val_acc: 0.4819\n",
      "Epoch 16/50\n",
      "1614/1614 [==============================] - 0s 306us/step - loss: 3.7981e-04 - acc: 0.9994 - val_loss: 0.1409 - val_acc: 0.4578\n",
      "Epoch 17/50\n",
      "1614/1614 [==============================] - 0s 290us/step - loss: 3.8965e-04 - acc: 0.9988 - val_loss: 0.1404 - val_acc: 0.4578\n",
      "Epoch 18/50\n",
      "1614/1614 [==============================] - 1s 324us/step - loss: 4.3177e-04 - acc: 0.9988 - val_loss: 0.1394 - val_acc: 0.4618\n",
      "Epoch 19/50\n",
      "1614/1614 [==============================] - 0s 286us/step - loss: 5.9917e-04 - acc: 0.9988 - val_loss: 0.1423 - val_acc: 0.4699\n",
      "Epoch 20/50\n",
      "1614/1614 [==============================] - 0s 279us/step - loss: 2.6790e-04 - acc: 0.9994 - val_loss: 0.1427 - val_acc: 0.4498\n",
      "Epoch 21/50\n",
      "1614/1614 [==============================] - 0s 262us/step - loss: 2.6347e-04 - acc: 0.9994 - val_loss: 0.1428 - val_acc: 0.4618\n",
      "Epoch 22/50\n",
      "1614/1614 [==============================] - 0s 265us/step - loss: 2.3305e-04 - acc: 0.9994 - val_loss: 0.1426 - val_acc: 0.4578\n",
      "Epoch 23/50\n",
      "1614/1614 [==============================] - 0s 226us/step - loss: 2.3506e-04 - acc: 0.9994 - val_loss: 0.1421 - val_acc: 0.4659\n",
      "Epoch 24/50\n",
      "1614/1614 [==============================] - 0s 264us/step - loss: 2.3172e-04 - acc: 0.9994 - val_loss: 0.1409 - val_acc: 0.4699\n",
      "Epoch 25/50\n",
      "1614/1614 [==============================] - 0s 215us/step - loss: 2.3489e-04 - acc: 0.9994 - val_loss: 0.1408 - val_acc: 0.4659\n",
      "Epoch 26/50\n",
      "1614/1614 [==============================] - 0s 285us/step - loss: 2.8601e-04 - acc: 0.9994 - val_loss: 0.1413 - val_acc: 0.4618\n",
      "Epoch 27/50\n",
      "1614/1614 [==============================] - 0s 258us/step - loss: 3.5514e-04 - acc: 0.9988 - val_loss: 0.1452 - val_acc: 0.4458\n",
      "Epoch 28/50\n",
      "1614/1614 [==============================] - 0s 241us/step - loss: 4.2357e-04 - acc: 0.9988 - val_loss: 0.1459 - val_acc: 0.4378\n",
      "Epoch 29/50\n",
      "1614/1614 [==============================] - 0s 286us/step - loss: 2.4970e-04 - acc: 0.9994 - val_loss: 0.1462 - val_acc: 0.4498\n",
      "Epoch 30/50\n",
      "1614/1614 [==============================] - 0s 253us/step - loss: 2.5955e-04 - acc: 0.9994 - val_loss: 0.1454 - val_acc: 0.4538\n",
      "Epoch 31/50\n",
      "1614/1614 [==============================] - 0s 223us/step - loss: 2.6412e-04 - acc: 0.9988 - val_loss: 0.1455 - val_acc: 0.4538\n",
      "Epoch 32/50\n",
      "1614/1614 [==============================] - 0s 255us/step - loss: 5.6431e-04 - acc: 0.9981 - val_loss: 0.1463 - val_acc: 0.4458\n",
      "Epoch 33/50\n",
      "1614/1614 [==============================] - 0s 261us/step - loss: 4.3224e-04 - acc: 0.9988 - val_loss: 0.1466 - val_acc: 0.4418\n",
      "Epoch 34/50\n",
      "1614/1614 [==============================] - 0s 214us/step - loss: 3.8926e-04 - acc: 0.9988 - val_loss: 0.1453 - val_acc: 0.4498\n",
      "Epoch 35/50\n",
      "1614/1614 [==============================] - 0s 209us/step - loss: 2.7206e-04 - acc: 0.9994 - val_loss: 0.1454 - val_acc: 0.4458\n",
      "Epoch 36/50\n",
      "1614/1614 [==============================] - 0s 216us/step - loss: 6.4199e-04 - acc: 0.9988 - val_loss: 0.1442 - val_acc: 0.4458\n",
      "Epoch 37/50\n",
      "1614/1614 [==============================] - 0s 200us/step - loss: 0.0013 - acc: 0.9957 - val_loss: 0.1438 - val_acc: 0.4578\n",
      "Epoch 38/50\n",
      "1614/1614 [==============================] - 0s 200us/step - loss: 0.0019 - acc: 0.9926 - val_loss: 0.1495 - val_acc: 0.4498\n",
      "Epoch 39/50\n",
      "1614/1614 [==============================] - 0s 214us/step - loss: 0.0015 - acc: 0.9963 - val_loss: 0.1508 - val_acc: 0.4578\n",
      "Epoch 40/50\n",
      "1614/1614 [==============================] - 0s 293us/step - loss: 0.0023 - acc: 0.9913 - val_loss: 0.1541 - val_acc: 0.4578\n",
      "Epoch 41/50\n",
      "1614/1614 [==============================] - 0s 254us/step - loss: 0.0020 - acc: 0.9932 - val_loss: 0.1537 - val_acc: 0.4458\n",
      "Epoch 42/50\n",
      "1614/1614 [==============================] - 0s 204us/step - loss: 0.0014 - acc: 0.9938 - val_loss: 0.1533 - val_acc: 0.4699\n",
      "Epoch 43/50\n",
      "1614/1614 [==============================] - 0s 273us/step - loss: 8.3633e-04 - acc: 0.9975 - val_loss: 0.1558 - val_acc: 0.4538\n",
      "Epoch 44/50\n",
      "1614/1614 [==============================] - 0s 260us/step - loss: 5.0555e-04 - acc: 0.9988 - val_loss: 0.1556 - val_acc: 0.4458\n",
      "Epoch 45/50\n",
      "1614/1614 [==============================] - 0s 233us/step - loss: 4.5424e-04 - acc: 0.9988 - val_loss: 0.1563 - val_acc: 0.4418\n",
      "Epoch 46/50\n",
      "1614/1614 [==============================] - 0s 198us/step - loss: 6.0043e-04 - acc: 0.9981 - val_loss: 0.1551 - val_acc: 0.4418\n",
      "Epoch 47/50\n",
      "1614/1614 [==============================] - 0s 276us/step - loss: 8.3640e-04 - acc: 0.9969 - val_loss: 0.1585 - val_acc: 0.4257\n",
      "Epoch 48/50\n",
      "1614/1614 [==============================] - 0s 267us/step - loss: 6.3814e-04 - acc: 0.9981 - val_loss: 0.1604 - val_acc: 0.4217\n",
      "Epoch 49/50\n",
      "1614/1614 [==============================] - 0s 228us/step - loss: 0.0017 - acc: 0.9944 - val_loss: 0.1657 - val_acc: 0.4257\n",
      "Epoch 50/50\n",
      "1614/1614 [==============================] - 0s 220us/step - loss: 0.0016 - acc: 0.9944 - val_loss: 0.1642 - val_acc: 0.4337\n"
     ]
    }
   ],
   "source": [
    "X = corpus_df_emotion['text']\n",
    "y = emotion_df['label']\n",
    "\n",
    "from keras.utils import to_categorical\n",
    "y_binary = to_categorical(y)\n",
    "\n",
    "X_train, X_test, y_train, y_test = train_test_split(X, y_binary, stratify=y, random_state=42)\n",
    "\n",
    "vectorizer = TfidfVectorizer()\n",
    "tf_idf_X_train = vectorizer.fit_transform(X_train)\n",
    "tf_idf_X_test = vectorizer.transform(X_test)\n",
    "\n",
    "smt = SMOTE(sampling_strategy='not majority')\n",
    "X_res, y_res = smt.fit_resample(tf_idf_X_train, y_train)\n",
    "X_res.shape\n",
    "\n",
    "num_features = 2022\n",
    "num_classes = 6\n",
    "\n",
    "model = Sequential()\n",
    "# first layer, includes input shape\n",
    "model.add(Dense(300, activation='relu', input_shape=(num_features, )))\n",
    "model.add(BatchNormalization())\n",
    "model.add(Dropout(0.2))\n",
    "# second layer\n",
    "model.add(Dense(150, activation='relu'))\n",
    "model.add(BatchNormalization())\n",
    "model.add(Dropout(0.2))\n",
    "# final layer with the number of classes as the number of outputs\n",
    "# uses a softmax classifier, which is standard for NLP\n",
    "model.add(Dense(num_classes, activation='softmax'))\n",
    "\n",
    "model.compile(loss='mean_squared_error',\n",
    "              optimizer=Adam(lr=.002, decay=.00001),\n",
    "              metrics=['accuracy'])\n",
    "              \n",
    "history = model.fit(X_res, \n",
    "                    y_res,\n",
    "                    epochs=50,\n",
    "                    batch_size=100,\n",
    "                    validation_data=(tf_idf_X_test, y_test))"
   ]
  },
  {
   "cell_type": "code",
   "execution_count": 154,
   "metadata": {},
   "outputs": [
    {
     "name": "stdout",
     "output_type": "stream",
     "text": [
      "249/249 [==============================] - 0s 146us/step\n",
      "[0.1642139646781975, 0.4337349395196601]\n"
     ]
    },
    {
     "data": {
      "text/plain": [
       "[<matplotlib.lines.Line2D at 0x1a4588c198>]"
      ]
     },
     "execution_count": 154,
     "metadata": {},
     "output_type": "execute_result"
    },
    {
     "data": {
      "image/png": "[encoded data removed]",
      "text/plain": [
       "<Figure size 432x288 with 1 Axes>"
      ]
     },
     "metadata": {
      "needs_background": "light"
     },
     "output_type": "display_data"
    }
   ],
   "source": [
    "print(model.evaluate(tf_idf_X_test, y_test))\n",
    "\n",
    "plt.plot(history.history['val_acc'], color='blue')\n",
    "plt.plot(history.history['val_loss'])"
   ]
  },
  {
   "cell_type": "code",
   "execution_count": null,
   "metadata": {},
   "outputs": [],
   "source": []
  },
  {
   "cell_type": "code",
   "execution_count": null,
   "metadata": {},
   "outputs": [],
   "source": []
  },
  {
   "cell_type": "code",
   "execution_count": null,
   "metadata": {},
   "outputs": [],
   "source": []
  }
 ],
 "metadata": {
  "kernelspec": {
   "display_name": "Python 3",
   "language": "python",
   "name": "python3"
  },
  "language_info": {
   "codemirror_mode": {
    "name": "ipython",
    "version": 3
   },
   "file_extension": ".py",
   "mimetype": "text/x-python",
   "name": "python",
   "nbconvert_exporter": "python",
   "pygments_lexer": "ipython3",
   "version": "3.7.3"
  }
 },
 "nbformat": 4,
 "nbformat_minor": 2
}
